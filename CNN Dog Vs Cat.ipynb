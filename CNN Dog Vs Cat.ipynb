{
 "cells": [
  {
   "cell_type": "markdown",
   "metadata": {
    "colab_type": "text",
    "id": "3DR-eO17geWu"
   },
   "source": [
    "# Convolutional Neural Network"
   ]
  },
  {
   "cell_type": "markdown",
   "metadata": {
    "colab_type": "text",
    "id": "EMefrVPCg-60"
   },
   "source": [
    "### Importing libraries"
   ]
  },
  {
   "cell_type": "code",
   "execution_count": 1,
   "metadata": {
    "colab": {},
    "colab_type": "code",
    "id": "sCV30xyVhFbE"
   },
   "outputs": [],
   "source": [
    "import tensorflow as tf\n",
    "from keras.preprocessing.image import ImageDataGenerator"
   ]
  },
  {
   "cell_type": "code",
   "execution_count": 2,
   "metadata": {
    "colab": {},
    "colab_type": "code",
    "id": "FIleuCAjoFD8"
   },
   "outputs": [
    {
     "data": {
      "text/plain": [
       "'2.10.0'"
      ]
     },
     "execution_count": 2,
     "metadata": {},
     "output_type": "execute_result"
    }
   ],
   "source": [
    "tf.__version__"
   ]
  },
  {
   "cell_type": "markdown",
   "metadata": {
    "colab_type": "text",
    "id": "oxQxCBWyoGPE"
   },
   "source": [
    "## Data Preprocessing"
   ]
  },
  {
   "cell_type": "markdown",
   "metadata": {
    "colab_type": "text",
    "id": "MvE-heJNo3GG"
   },
   "source": [
    "### Preprocessing the Training set"
   ]
  },
  {
   "cell_type": "code",
   "execution_count": 3,
   "metadata": {
    "colab": {},
    "colab_type": "code",
    "id": "0koUcJMJpEBD"
   },
   "outputs": [
    {
     "name": "stdout",
     "output_type": "stream",
     "text": [
      "Found 8000 images belonging to 2 classes.\n"
     ]
    }
   ],
   "source": [
    "train_datagen = ImageDataGenerator(rescale = 1./255,\n",
    "                                   shear_range = 0.2,\n",
    "                                   zoom_range = 0.2,\n",
    "                                   horizontal_flip = True)\n",
    "training_set = train_datagen.flow_from_directory('C:\\\\Users\\\\2211443\\\\OneDrive - Cognizant\\\\Desktop\\\\Notes & Dataset\\\\Dataset\\\\dataset\\\\training_set',\n",
    "                                                 target_size = (150, 150),\n",
    "                                                 batch_size = 32,\n",
    "                                                 class_mode = 'binary'\n",
    "                                                 )"
   ]
  },
  {
   "cell_type": "markdown",
   "metadata": {
    "colab_type": "text",
    "id": "mrCMmGw9pHys"
   },
   "source": [
    "### Preprocessing the Test set"
   ]
  },
  {
   "cell_type": "code",
   "execution_count": 4,
   "metadata": {
    "colab": {},
    "colab_type": "code",
    "id": "SH4WzfOhpKc3"
   },
   "outputs": [
    {
     "name": "stdout",
     "output_type": "stream",
     "text": [
      "Found 2000 images belonging to 2 classes.\n"
     ]
    }
   ],
   "source": [
    "test_datagen = ImageDataGenerator(rescale = 1./255)\n",
    "test_set = test_datagen.flow_from_directory('C:\\\\Users\\\\2211443\\\\OneDrive - Cognizant\\\\Desktop\\\\Notes & Dataset\\\\Dataset\\\\dataset\\\\test_set',\n",
    "                                            target_size = (150, 150),\n",
    "                                            batch_size = 32,\n",
    "                                            class_mode = 'binary')"
   ]
  },
  {
   "cell_type": "markdown",
   "metadata": {
    "colab_type": "text",
    "id": "af8O4l90gk7B"
   },
   "source": [
    "## Building the CNN"
   ]
  },
  {
   "cell_type": "markdown",
   "metadata": {
    "colab_type": "text",
    "id": "ces1gXY2lmoX"
   },
   "source": [
    "### Initialising the CNN"
   ]
  },
  {
   "cell_type": "code",
   "execution_count": 5,
   "metadata": {
    "colab": {},
    "colab_type": "code",
    "id": "SAUt4UMPlhLS"
   },
   "outputs": [],
   "source": [
    "cnn = tf.keras.models.Sequential()"
   ]
  },
  {
   "cell_type": "code",
   "execution_count": 6,
   "metadata": {
    "colab": {},
    "colab_type": "code",
    "id": "XPzPrMckl-hV"
   },
   "outputs": [],
   "source": [
    "cnn.add(tf.keras.layers.Conv2D(filters=32, kernel_size=3, activation='relu', input_shape=[150, 150, 3]))"
   ]
  },
  {
   "cell_type": "code",
   "execution_count": 7,
   "metadata": {
    "colab": {},
    "colab_type": "code",
    "id": "ncpqPl69mOac"
   },
   "outputs": [],
   "source": [
    "cnn.add(tf.keras.layers.MaxPool2D(pool_size=2,strides=2,padding='same'))"
   ]
  },
  {
   "cell_type": "markdown",
   "metadata": {
    "colab_type": "text",
    "id": "xaTOgD8rm4mU"
   },
   "source": [
    "### second convolutional layer"
   ]
  },
  {
   "cell_type": "code",
   "execution_count": 8,
   "metadata": {
    "colab": {},
    "colab_type": "code",
    "id": "i_-FZjn_m8gk"
   },
   "outputs": [],
   "source": [
    "cnn.add(tf.keras.layers.Conv2D(filters=32,kernel_size=3,activation='relu'))\n",
    "cnn.add(tf.keras.layers.MaxPool2D(pool_size=2,strides=2,padding='same'))"
   ]
  },
  {
   "cell_type": "markdown",
   "metadata": {
    "colab_type": "text",
    "id": "tmiEuvTunKfk"
   },
   "source": [
    "###  Flattening"
   ]
  },
  {
   "cell_type": "code",
   "execution_count": 9,
   "metadata": {
    "colab": {},
    "colab_type": "code",
    "id": "6AZeOGCvnNZn"
   },
   "outputs": [],
   "source": [
    "cnn.add(tf.keras.layers.Flatten())"
   ]
  },
  {
   "cell_type": "markdown",
   "metadata": {
    "colab_type": "text",
    "id": "dAoSECOm203v"
   },
   "source": [
    "### Full Connection"
   ]
  },
  {
   "cell_type": "code",
   "execution_count": 10,
   "metadata": {
    "colab": {},
    "colab_type": "code",
    "id": "8GtmUlLd26Nq"
   },
   "outputs": [],
   "source": [
    "cnn.add(tf.keras.layers.Dense(units=256,activation='relu'))"
   ]
  },
  {
   "cell_type": "markdown",
   "metadata": {
    "colab_type": "text",
    "id": "yTldFvbX28Na"
   },
   "source": [
    "### Output Layer"
   ]
  },
  {
   "cell_type": "code",
   "execution_count": 11,
   "metadata": {
    "colab": {},
    "colab_type": "code",
    "id": "1p_Zj1Mc3Ko_"
   },
   "outputs": [],
   "source": [
    "cnn.add(tf.keras.layers.Dense(units=1, activation='sigmoid'))"
   ]
  },
  {
   "cell_type": "markdown",
   "metadata": {
    "colab_type": "text",
    "id": "D6XkI90snSDl"
   },
   "source": [
    "## Training the CNN"
   ]
  },
  {
   "cell_type": "code",
   "execution_count": 12,
   "metadata": {
    "colab": {},
    "colab_type": "code",
    "id": "NALksrNQpUlJ"
   },
   "outputs": [],
   "source": [
    "cnn.compile(optimizer = 'adam', loss = 'binary_crossentropy', metrics = ['accuracy'])"
   ]
  },
  {
   "cell_type": "code",
   "execution_count": 13,
   "metadata": {
    "colab": {},
    "colab_type": "code",
    "id": "XUj1W4PJptta"
   },
   "outputs": [
    {
     "name": "stdout",
     "output_type": "stream",
     "text": [
      "Epoch 1/30\n",
      "250/250 [==============================] - 193s 769ms/step - loss: 0.7224 - accuracy: 0.5751 - val_loss: 0.6491 - val_accuracy: 0.6355\n",
      "Epoch 2/30\n",
      "250/250 [==============================] - 214s 856ms/step - loss: 0.6449 - accuracy: 0.6323 - val_loss: 0.6221 - val_accuracy: 0.6715\n",
      "Epoch 3/30\n",
      "250/250 [==============================] - 221s 885ms/step - loss: 0.6151 - accuracy: 0.6660 - val_loss: 0.6123 - val_accuracy: 0.6820\n",
      "Epoch 4/30\n",
      "250/250 [==============================] - 206s 822ms/step - loss: 0.5961 - accuracy: 0.6801 - val_loss: 0.5994 - val_accuracy: 0.7010\n",
      "Epoch 5/30\n",
      "250/250 [==============================] - 355s 1s/step - loss: 0.5635 - accuracy: 0.7089 - val_loss: 0.5683 - val_accuracy: 0.7165\n",
      "Epoch 6/30\n",
      "250/250 [==============================] - 203s 811ms/step - loss: 0.5335 - accuracy: 0.7274 - val_loss: 0.5526 - val_accuracy: 0.7370\n",
      "Epoch 7/30\n",
      "250/250 [==============================] - 199s 795ms/step - loss: 0.5021 - accuracy: 0.7536 - val_loss: 0.5449 - val_accuracy: 0.7415\n",
      "Epoch 8/30\n",
      "250/250 [==============================] - 197s 789ms/step - loss: 0.4786 - accuracy: 0.7649 - val_loss: 0.5500 - val_accuracy: 0.7365\n",
      "Epoch 9/30\n",
      "250/250 [==============================] - 199s 795ms/step - loss: 0.4486 - accuracy: 0.7929 - val_loss: 0.5202 - val_accuracy: 0.7580\n",
      "Epoch 10/30\n",
      "250/250 [==============================] - 200s 799ms/step - loss: 0.4323 - accuracy: 0.8001 - val_loss: 0.5654 - val_accuracy: 0.7515\n",
      "Epoch 11/30\n",
      "250/250 [==============================] - 200s 799ms/step - loss: 0.4121 - accuracy: 0.8110 - val_loss: 0.5131 - val_accuracy: 0.7680\n",
      "Epoch 12/30\n",
      "250/250 [==============================] - 201s 804ms/step - loss: 0.3755 - accuracy: 0.8324 - val_loss: 0.5468 - val_accuracy: 0.7765\n",
      "Epoch 13/30\n",
      "250/250 [==============================] - 201s 803ms/step - loss: 0.3465 - accuracy: 0.8493 - val_loss: 0.5543 - val_accuracy: 0.7660\n",
      "Epoch 14/30\n",
      "250/250 [==============================] - 198s 793ms/step - loss: 0.3290 - accuracy: 0.8580 - val_loss: 0.5511 - val_accuracy: 0.7755\n",
      "Epoch 15/30\n",
      "250/250 [==============================] - 199s 794ms/step - loss: 0.3065 - accuracy: 0.8712 - val_loss: 0.5698 - val_accuracy: 0.7750\n",
      "Epoch 16/30\n",
      "250/250 [==============================] - 209s 837ms/step - loss: 0.2779 - accuracy: 0.8814 - val_loss: 0.5984 - val_accuracy: 0.7870\n",
      "Epoch 17/30\n",
      "250/250 [==============================] - 207s 826ms/step - loss: 0.2627 - accuracy: 0.8930 - val_loss: 0.5945 - val_accuracy: 0.7815\n",
      "Epoch 18/30\n",
      "250/250 [==============================] - 214s 855ms/step - loss: 0.2407 - accuracy: 0.9020 - val_loss: 0.6462 - val_accuracy: 0.7740\n",
      "Epoch 19/30\n",
      "250/250 [==============================] - 212s 846ms/step - loss: 0.2322 - accuracy: 0.9061 - val_loss: 0.6288 - val_accuracy: 0.7795\n",
      "Epoch 20/30\n",
      "250/250 [==============================] - 207s 828ms/step - loss: 0.2197 - accuracy: 0.9141 - val_loss: 0.6219 - val_accuracy: 0.7905\n",
      "Epoch 21/30\n",
      "250/250 [==============================] - 200s 801ms/step - loss: 0.1985 - accuracy: 0.9211 - val_loss: 0.6512 - val_accuracy: 0.7795\n",
      "Epoch 22/30\n",
      "250/250 [==============================] - 203s 812ms/step - loss: 0.1804 - accuracy: 0.9276 - val_loss: 0.6478 - val_accuracy: 0.7835\n",
      "Epoch 23/30\n",
      "250/250 [==============================] - 203s 812ms/step - loss: 0.1664 - accuracy: 0.9348 - val_loss: 0.7558 - val_accuracy: 0.7715\n",
      "Epoch 24/30\n",
      "250/250 [==============================] - 214s 855ms/step - loss: 0.1675 - accuracy: 0.9339 - val_loss: 0.6798 - val_accuracy: 0.7850\n",
      "Epoch 25/30\n",
      "250/250 [==============================] - 196s 783ms/step - loss: 0.1434 - accuracy: 0.9442 - val_loss: 0.7154 - val_accuracy: 0.7895\n",
      "Epoch 26/30\n",
      "250/250 [==============================] - 196s 783ms/step - loss: 0.1472 - accuracy: 0.9452 - val_loss: 0.7651 - val_accuracy: 0.7715\n",
      "Epoch 27/30\n",
      "250/250 [==============================] - 199s 795ms/step - loss: 0.1364 - accuracy: 0.9480 - val_loss: 0.7760 - val_accuracy: 0.7905\n",
      "Epoch 28/30\n",
      "250/250 [==============================] - 199s 797ms/step - loss: 0.1243 - accuracy: 0.9535 - val_loss: 0.7904 - val_accuracy: 0.7785\n",
      "Epoch 29/30\n",
      "250/250 [==============================] - 191s 762ms/step - loss: 0.1277 - accuracy: 0.9536 - val_loss: 0.7378 - val_accuracy: 0.7905\n",
      "Epoch 30/30\n",
      "250/250 [==============================] - 434s 2s/step - loss: 0.1004 - accuracy: 0.9638 - val_loss: 0.9113 - val_accuracy: 0.7680\n"
     ]
    },
    {
     "data": {
      "text/plain": [
       "<keras.callbacks.History at 0x1da0da2bb20>"
      ]
     },
     "execution_count": 13,
     "metadata": {},
     "output_type": "execute_result"
    }
   ],
   "source": [
    "cnn.fit(x = training_set, validation_data = test_set, epochs = 30)"
   ]
  },
  {
   "cell_type": "markdown",
   "metadata": {
    "colab_type": "text",
    "id": "U3PZasO0006Z"
   },
   "source": [
    "## Making a single prediction"
   ]
  },
  {
   "cell_type": "code",
   "execution_count": null,
   "metadata": {},
   "outputs": [],
   "source": [
    "import numpy as np\n",
    "from tensorflow.keras.utils import load_img, img_to_array \n",
    "test_image = tf.keras.utils.load_img(r'C:\\Users\\2211443\\OneDrive - Cognizant\\Desktop\\Notes & Dataset\\Dataset\\dataset\\single_prediction\\', \n",
    "                                     target_size = (150, 150))\n",
    "test_image = tf.keras.utils.img_to_array(test_image)\n",
    "test_image = np.expand_dims(test_image, axis = 0)\n",
    "result = cnn.predict(test_image)\n",
    "training_set.class_indices\n",
    "if result[0][0] == 1:\n",
    "  prediction = 'dog'\n",
    "else:\n",
    "  prediction = 'cat'"
   ]
  },
  {
   "cell_type": "code",
   "execution_count": null,
   "metadata": {
    "colab": {},
    "colab_type": "code",
    "id": "ED9KB3I54c1i"
   },
   "outputs": [],
   "source": [
    "print(prediction)"
   ]
  }
 ],
 "metadata": {
  "colab": {
   "collapsed_sections": [],
   "name": "convolutional_neural_network.ipynb",
   "provenance": [],
   "toc_visible": true
  },
  "kernelspec": {
   "display_name": "Python 3 (ipykernel)",
   "language": "python",
   "name": "python3"
  },
  "language_info": {
   "codemirror_mode": {
    "name": "ipython",
    "version": 3
   },
   "file_extension": ".py",
   "mimetype": "text/x-python",
   "name": "python",
   "nbconvert_exporter": "python",
   "pygments_lexer": "ipython3",
   "version": "3.9.12"
  }
 },
 "nbformat": 4,
 "nbformat_minor": 1
}
